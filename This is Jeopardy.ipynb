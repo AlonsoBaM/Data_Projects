{
 "cells": [
  {
   "cell_type": "markdown",
   "metadata": {},
   "source": [
    "# This is Jeopardy!"
   ]
  },
  {
   "cell_type": "markdown",
   "metadata": {},
   "source": [
    "#### Overview"
   ]
  },
  {
   "cell_type": "markdown",
   "metadata": {},
   "source": [
    "This project is slightly different than others you have encountered thus far. Instead of a step-by-step tutorial, this project contains a series of open-ended requirements which describe the project you'll be building. There are many possible ways to correctly fulfill all of these requirements, and you should expect to use the internet, Codecademy, and/or other resources when you encounter a problem that you cannot easily solve."
   ]
  },
  {
   "cell_type": "markdown",
   "metadata": {},
   "source": [
    "#### Project Goals"
   ]
  },
  {
   "cell_type": "markdown",
   "metadata": {},
   "source": [
    "You will work to write several functions that investigate a dataset of _Jeopardy!_ questions and answers. Filter the dataset for topics that you're interested in, compute the average difficulty of those questions, and train to become the next Jeopardy champion!"
   ]
  },
  {
   "cell_type": "markdown",
   "metadata": {},
   "source": [
    "## Prerequisites"
   ]
  },
  {
   "cell_type": "markdown",
   "metadata": {},
   "source": [
    "In order to complete this project, you should have completed the Pandas lessons in the <a href=\"https://www.codecademy.com/learn/paths/analyze-data-with-python\">Analyze Data with Python Skill Path</a>. You can also find those lessons in the <a href=\"https://www.codecademy.com/learn/data-processing-pandas\">Data Analysis with Pandas course</a> or the <a href=\"https://www.codecademy.com/learn/paths/data-science/\">Data Scientist Career Path</a>.\n",
    "\n",
    "Finally, the <a href=\"https://www.codecademy.com/learn/practical-data-cleaning\">Practical Data Cleaning</a> course may also be helpful."
   ]
  },
  {
   "cell_type": "markdown",
   "metadata": {},
   "source": [
    "## Project Requirements"
   ]
  },
  {
   "cell_type": "markdown",
   "metadata": {},
   "source": [
    "1. We've provided a csv file containing data about the game show _Jeopardy!_ in a file named `jeopardy.csv`. Load the data into a DataFrame and investigate its contents. Try to print out specific columns.\n",
    "\n",
    "   Note that in order to make this project as \"real-world\" as possible, we haven't modified the data at all - we're giving it to you exactly how we found it. As a result, this data isn't as \"clean\" as the datasets you normally find on Codecademy. More specifically, there's something odd about the column names. After you figure out the problem with the column names, you may want to rename them to make your life easier for the rest of the project.\n",
    "   \n",
    "   In order to display the full contents of a column, we've added this line of code for you:\n",
    "   \n",
    "   ```py\n",
    "   pd.set_option('display.max_colwidth', None)\n",
    "   ```"
   ]
  },
  {
   "cell_type": "code",
   "execution_count": 129,
   "metadata": {},
   "outputs": [
    {
     "name": "stdout",
     "output_type": "stream",
     "text": [
      "Index(['Show Number', 'Air Date', 'Round', 'Category', 'Value', 'Question',\n",
      "       'Answer'],\n",
      "      dtype='object')\n"
     ]
    }
   ],
   "source": [
    "import pandas as pd\n",
    "import datetime\n",
    "pd.set_option('display.max_colwidth', None)\n",
    "jeopardy_data =pd.read_csv('jeopardy.csv')\n",
    "jeopardy_data.rename(columns= {' Air Date':'Air Date', ' Round': 'Round', ' Category': 'Category', ' Value': 'Value',\\\n",
    "                               ' Question': 'Question', ' Answer': 'Answer' }, inplace=True)\n",
    "print(jeopardy_data.columns)"
   ]
  },
  {
   "cell_type": "markdown",
   "metadata": {},
   "source": [
    "2. Write a function that filters the dataset for questions that contains all of the words in a list of words. For example, when the list `[\"King\", \"England\"]` was passed to our function, the function returned a DataFrame of 49 rows. Every row had the strings `\"King\"` and `\"England\"` somewhere in its `\" Question\"`.\n",
    "\n",
    "   Test your function by printing out the column containing the question of each row of the dataset."
   ]
  },
  {
   "cell_type": "code",
   "execution_count": 130,
   "metadata": {},
   "outputs": [
    {
     "name": "stdout",
     "output_type": "stream",
     "text": [
      "In 1963, live on \"The Art Linkletter Show\", this company served its billionth burger\n",
      "False\n",
      "True\n",
      "[False, True]\n",
      "False\n"
     ]
    }
   ],
   "source": [
    "x= jeopardy_data[\"Question\"][3]\n",
    "print(x)\n",
    "vct=[]\n",
    "for word in [\"life\", \"his\"]:\n",
    "    print(word in x)\n",
    "    vct.append(word in x)\n",
    "print(vct)\n",
    "print(all(vct))"
   ]
  },
  {
   "cell_type": "code",
   "execution_count": 131,
   "metadata": {},
   "outputs": [
    {
     "name": "stdout",
     "output_type": "stream",
     "text": [
      "       Show Number    Air Date             Round          Category  Value  \\\n",
      "4953          3003  1997-09-24  Double Jeopardy!      \"PH\"UN WORDS   $200   \n",
      "14912         2832  1996-12-17         Jeopardy!     WORLD HISTORY   $100   \n",
      "21511         4650  2004-11-19         Jeopardy!        THE \"O.C.\"  $1000   \n",
      "23810         4862  2005-11-01         Jeopardy!     NAME THE YEAR   $400   \n",
      "27555         1799  1992-05-28  Double Jeopardy!  HISTORIC IN-LAWS   $600   \n",
      "\n",
      "                                                                                                   Question  \\\n",
      "4953               Both England's King George V & FDR put their stamp of approval on this \"King of Hobbies\"   \n",
      "14912     This country's King Louis IV was nicknamed \"Louis From Overseas\" because he was raised in England   \n",
      "21511                          this man and his son ruled England following the execution of King Charles I   \n",
      "23810  William the Conqueror was crowned King of England in Westminster Abbey on Christmas Day in this year   \n",
      "27555                    This member of the Medici family was the mother-in-law of England's King Charles I   \n",
      "\n",
      "                             Answer  \n",
      "4953   Philately (stamp collecting)  \n",
      "14912                        France  \n",
      "21511               Oliver Cromwell  \n",
      "23810                          1066  \n",
      "27555               Marie de Medici  \n",
      "49\n"
     ]
    }
   ],
   "source": [
    "def filter_data(data, lst):\n",
    "    filter = lambda x: all(word in x for word in lst)\n",
    "    \n",
    "    return data[data[\"Question\"].apply(filter)==True]\n",
    "\n",
    "filter = filter_data(jeopardy_data, [\"King\", \"England\"])\n",
    "print(filter.head())\n",
    "print(len(filter))"
   ]
  },
  {
   "cell_type": "code",
   "execution_count": 132,
   "metadata": {},
   "outputs": [
    {
     "data": {
      "text/plain": [
       "Show Number                                                                                                4680\n",
       "Air Date                                                                                             2004-12-31\n",
       "Round                                                                                                 Jeopardy!\n",
       "Category                                                                                                HISTORY\n",
       "Value                                                                                                      $200\n",
       "Question       For the last 8 years of his life, Galileo was under house arrest for espousing this man's theory\n",
       "Answer                                                                                               Copernicus\n",
       "Name: 0, dtype: object"
      ]
     },
     "execution_count": 132,
     "metadata": {},
     "output_type": "execute_result"
    }
   ],
   "source": [
    "jeopardy_data.loc[0]"
   ]
  },
  {
   "cell_type": "markdown",
   "metadata": {},
   "source": [
    "3. Test your original function with a few different sets of words to try to find some ways your function breaks. Edit your function so it is more robust.\n",
    "\n",
    "   For example, think about capitalization. We probably want to find questions that contain the word `\"King\"` or `\"king\"`.\n",
    "   \n",
    "   You may also want to check to make sure you don't find rows that contain substrings of your given words. For example, our function found a question that didn't contain the word `\"king\"`, however it did contain the word `\"viking\"` &mdash; it found the `\"king\"` inside `\"viking\"`. Note that this also comes with some drawbacks &mdash; you would no longer find questions that contained words like `\"England's\"`."
   ]
  },
  {
   "cell_type": "code",
   "execution_count": 133,
   "metadata": {},
   "outputs": [
    {
     "name": "stdout",
     "output_type": "stream",
     "text": [
      "34                                                                                Around 100 A.D. Tacitus wrote a book on how this art of persuasive speaking had declined since Cicero\n",
      "40    <a href=\"http://www.j-archive.com/media/2004-12-31_DJ_26.mp3\">Ripped from today's headlines, he was a turtle king gone mad; Mack was the one good turtle who'd bring him down</a>\n",
      "50                  <a href=\"http://www.j-archive.com/media/2004-12-31_DJ_24.mp3\">\"500 Hats\"... 500 ways to die.  On July 4th, this young boy will defy a king... & become a legend</a>\n",
      "56                                                                                                                                       It's the largest kingdom in the United Kingdom\n",
      "72                                                                                          In this kid's game, you bounce a small rubber ball while picking up 6-pronged metal objects\n",
      "Name: Question, dtype: object\n"
     ]
    }
   ],
   "source": [
    "def filter_data(data, lst):\n",
    "    filter = lambda x: all(word.lower() in x.lower() for word in lst)\n",
    "    return data[data[\"Question\"].apply(filter)==True]\n",
    "\n",
    "filtered = filter_data(jeopardy_data, [\"King\"])\n",
    "print(filtered[\"Question\"].head())"
   ]
  },
  {
   "cell_type": "markdown",
   "metadata": {},
   "source": [
    "4. We may want to eventually compute aggregate statistics, like `.mean()` on the `\" Value\"` column. But right now, the values in that column are strings. Convert the`\" Value\"` column to floats. If you'd like to, you can create a new column with float values.\n",
    "\n",
    "   Now that you can filter the dataset of question, use your new column that contains the float values of each question to find the \"difficulty\" of certain topics. For example, what is the average value of questions that contain the word `\"King\"`?\n",
    "   \n",
    "   Make sure to use the dataset that contains the float values as the dataset you use in your filtering function."
   ]
  },
  {
   "cell_type": "code",
   "execution_count": 134,
   "metadata": {},
   "outputs": [
    {
     "name": "stdout",
     "output_type": "stream",
     "text": [
      "771.8833850722094\n"
     ]
    },
    {
     "name": "stderr",
     "output_type": "stream",
     "text": [
      "C:\\Users\\Alonso\\AppData\\Local\\Temp/ipykernel_17560/1057908586.py:3: SettingWithCopyWarning: \n",
      "A value is trying to be set on a copy of a slice from a DataFrame.\n",
      "Try using .loc[row_indexer,col_indexer] = value instead\n",
      "\n",
      "See the caveats in the documentation: https://pandas.pydata.org/pandas-docs/stable/user_guide/indexing.html#returning-a-view-versus-a-copy\n",
      "  filtered[\"Float Value\"]=filtered[\"Value\"].apply(mylambda2)\n"
     ]
    }
   ],
   "source": [
    "mylambda2 = lambda x: float(x[1:].replace(\",\", \"\")) if x != \"None\" else 0\n",
    "jeopardy_data[\"Float Value\"]=jeopardy_data[\"Value\"].apply(mylambda2)\n",
    "filtered[\"Float Value\"]=filtered[\"Value\"].apply(mylambda2)\n",
    "print(filtered[\"Float Value\"].mean())"
   ]
  },
  {
   "cell_type": "code",
   "execution_count": 135,
   "metadata": {},
   "outputs": [
    {
     "data": {
      "text/html": [
       "<div>\n",
       "<style scoped>\n",
       "    .dataframe tbody tr th:only-of-type {\n",
       "        vertical-align: middle;\n",
       "    }\n",
       "\n",
       "    .dataframe tbody tr th {\n",
       "        vertical-align: top;\n",
       "    }\n",
       "\n",
       "    .dataframe thead th {\n",
       "        text-align: right;\n",
       "    }\n",
       "</style>\n",
       "<table border=\"1\" class=\"dataframe\">\n",
       "  <thead>\n",
       "    <tr style=\"text-align: right;\">\n",
       "      <th></th>\n",
       "      <th>Show Number</th>\n",
       "      <th>Air Date</th>\n",
       "      <th>Round</th>\n",
       "      <th>Category</th>\n",
       "      <th>Value</th>\n",
       "      <th>Question</th>\n",
       "      <th>Answer</th>\n",
       "      <th>Float Value</th>\n",
       "    </tr>\n",
       "  </thead>\n",
       "  <tbody>\n",
       "    <tr>\n",
       "      <th>0</th>\n",
       "      <td>4680</td>\n",
       "      <td>2004-12-31</td>\n",
       "      <td>Jeopardy!</td>\n",
       "      <td>HISTORY</td>\n",
       "      <td>$200</td>\n",
       "      <td>For the last 8 years of his life, Galileo was under house arrest for espousing this man's theory</td>\n",
       "      <td>Copernicus</td>\n",
       "      <td>200.0</td>\n",
       "    </tr>\n",
       "    <tr>\n",
       "      <th>1</th>\n",
       "      <td>4680</td>\n",
       "      <td>2004-12-31</td>\n",
       "      <td>Jeopardy!</td>\n",
       "      <td>ESPN's TOP 10 ALL-TIME ATHLETES</td>\n",
       "      <td>$200</td>\n",
       "      <td>No. 2: 1912 Olympian; football star at Carlisle Indian School; 6 MLB seasons with the Reds, Giants &amp; Braves</td>\n",
       "      <td>Jim Thorpe</td>\n",
       "      <td>200.0</td>\n",
       "    </tr>\n",
       "    <tr>\n",
       "      <th>2</th>\n",
       "      <td>4680</td>\n",
       "      <td>2004-12-31</td>\n",
       "      <td>Jeopardy!</td>\n",
       "      <td>EVERYBODY TALKS ABOUT IT...</td>\n",
       "      <td>$200</td>\n",
       "      <td>The city of Yuma in this state has a record average of 4,055 hours of sunshine each year</td>\n",
       "      <td>Arizona</td>\n",
       "      <td>200.0</td>\n",
       "    </tr>\n",
       "    <tr>\n",
       "      <th>3</th>\n",
       "      <td>4680</td>\n",
       "      <td>2004-12-31</td>\n",
       "      <td>Jeopardy!</td>\n",
       "      <td>THE COMPANY LINE</td>\n",
       "      <td>$200</td>\n",
       "      <td>In 1963, live on \"The Art Linkletter Show\", this company served its billionth burger</td>\n",
       "      <td>McDonald's</td>\n",
       "      <td>200.0</td>\n",
       "    </tr>\n",
       "    <tr>\n",
       "      <th>4</th>\n",
       "      <td>4680</td>\n",
       "      <td>2004-12-31</td>\n",
       "      <td>Jeopardy!</td>\n",
       "      <td>EPITAPHS &amp; TRIBUTES</td>\n",
       "      <td>$200</td>\n",
       "      <td>Signer of the Dec. of Indep., framer of the Constitution of Mass., second President of the United States</td>\n",
       "      <td>John Adams</td>\n",
       "      <td>200.0</td>\n",
       "    </tr>\n",
       "  </tbody>\n",
       "</table>\n",
       "</div>"
      ],
      "text/plain": [
       "   Show Number    Air Date      Round                         Category Value  \\\n",
       "0         4680  2004-12-31  Jeopardy!                          HISTORY  $200   \n",
       "1         4680  2004-12-31  Jeopardy!  ESPN's TOP 10 ALL-TIME ATHLETES  $200   \n",
       "2         4680  2004-12-31  Jeopardy!      EVERYBODY TALKS ABOUT IT...  $200   \n",
       "3         4680  2004-12-31  Jeopardy!                 THE COMPANY LINE  $200   \n",
       "4         4680  2004-12-31  Jeopardy!              EPITAPHS & TRIBUTES  $200   \n",
       "\n",
       "                                                                                                      Question  \\\n",
       "0             For the last 8 years of his life, Galileo was under house arrest for espousing this man's theory   \n",
       "1  No. 2: 1912 Olympian; football star at Carlisle Indian School; 6 MLB seasons with the Reds, Giants & Braves   \n",
       "2                     The city of Yuma in this state has a record average of 4,055 hours of sunshine each year   \n",
       "3                         In 1963, live on \"The Art Linkletter Show\", this company served its billionth burger   \n",
       "4     Signer of the Dec. of Indep., framer of the Constitution of Mass., second President of the United States   \n",
       "\n",
       "       Answer  Float Value  \n",
       "0  Copernicus        200.0  \n",
       "1  Jim Thorpe        200.0  \n",
       "2     Arizona        200.0  \n",
       "3  McDonald's        200.0  \n",
       "4  John Adams        200.0  "
      ]
     },
     "execution_count": 135,
     "metadata": {},
     "output_type": "execute_result"
    }
   ],
   "source": [
    "jeopardy_data.head()"
   ]
  },
  {
   "cell_type": "markdown",
   "metadata": {},
   "source": [
    "5. Write a function that returns the count of unique answers to all of the questions in a dataset. For example, after filtering the entire dataset to only questions containing the word `\"King\"`, we could then find all of the unique answers to those questions. The answer \"Henry VIII\" appeared 55 times and was the most common answer."
   ]
  },
  {
   "cell_type": "code",
   "execution_count": 136,
   "metadata": {},
   "outputs": [
    {
     "data": {
      "text/plain": [
       "Henry VIII                   55\n",
       "Solomon                      35\n",
       "Richard III                  33\n",
       "Louis XIV                    31\n",
       "David                        30\n",
       "                             ..\n",
       "cardiac (in card I acted)     1\n",
       "Henderson                     1\n",
       "Computer                      1\n",
       "Indians                       1\n",
       "work                          1\n",
       "Name: Answer, Length: 5268, dtype: int64"
      ]
     },
     "execution_count": 136,
     "metadata": {},
     "output_type": "execute_result"
    }
   ],
   "source": [
    "def answer_counts(data):\n",
    "    unique_answers = pd.value_counts(data[\"Answer\"])\n",
    "    return unique_answers\n",
    "\n",
    "\n",
    "answer_counts(filtered)\n"
   ]
  },
  {
   "cell_type": "markdown",
   "metadata": {},
   "source": [
    "6. Explore from here! This is an incredibly rich dataset, and there are so many interesting things to discover. There are a few columns that we haven't even started looking at yet. Here are some ideas on ways to continue working with this data:\n",
    "\n",
    " * Investigate the ways in which questions change over time by filtering by the date. How many questions from the 90s use the word `\"Computer\"` compared to questions from the 2000s?\n",
    " * Is there a connection between the round and the category? Are you more likely to find certain categories, like `\"Literature\"` in Single Jeopardy or Double Jeopardy?\n",
    " * Build a system to quiz yourself. Grab random questions, and use the <a href=\"https://docs.python.org/3/library/functions.html#input\">input</a> function to get a response from the user. Check to see if that response was right or wrong."
   ]
  },
  {
   "cell_type": "code",
   "execution_count": 137,
   "metadata": {
    "scrolled": true
   },
   "outputs": [
    {
     "data": {
      "text/html": [
       "<div>\n",
       "<style scoped>\n",
       "    .dataframe tbody tr th:only-of-type {\n",
       "        vertical-align: middle;\n",
       "    }\n",
       "\n",
       "    .dataframe tbody tr th {\n",
       "        vertical-align: top;\n",
       "    }\n",
       "\n",
       "    .dataframe thead th {\n",
       "        text-align: right;\n",
       "    }\n",
       "</style>\n",
       "<table border=\"1\" class=\"dataframe\">\n",
       "  <thead>\n",
       "    <tr style=\"text-align: right;\">\n",
       "      <th></th>\n",
       "      <th>Show Number</th>\n",
       "      <th>Air Date</th>\n",
       "      <th>Round</th>\n",
       "      <th>Category</th>\n",
       "      <th>Value</th>\n",
       "      <th>Question</th>\n",
       "      <th>Answer</th>\n",
       "      <th>Float Value</th>\n",
       "    </tr>\n",
       "  </thead>\n",
       "  <tbody>\n",
       "    <tr>\n",
       "      <th>0</th>\n",
       "      <td>4680</td>\n",
       "      <td>2004-12-31</td>\n",
       "      <td>Jeopardy!</td>\n",
       "      <td>HISTORY</td>\n",
       "      <td>$200</td>\n",
       "      <td>For the last 8 years of his life, Galileo was under house arrest for espousing this man's theory</td>\n",
       "      <td>Copernicus</td>\n",
       "      <td>200.0</td>\n",
       "    </tr>\n",
       "    <tr>\n",
       "      <th>1</th>\n",
       "      <td>4680</td>\n",
       "      <td>2004-12-31</td>\n",
       "      <td>Jeopardy!</td>\n",
       "      <td>ESPN's TOP 10 ALL-TIME ATHLETES</td>\n",
       "      <td>$200</td>\n",
       "      <td>No. 2: 1912 Olympian; football star at Carlisle Indian School; 6 MLB seasons with the Reds, Giants &amp; Braves</td>\n",
       "      <td>Jim Thorpe</td>\n",
       "      <td>200.0</td>\n",
       "    </tr>\n",
       "    <tr>\n",
       "      <th>2</th>\n",
       "      <td>4680</td>\n",
       "      <td>2004-12-31</td>\n",
       "      <td>Jeopardy!</td>\n",
       "      <td>EVERYBODY TALKS ABOUT IT...</td>\n",
       "      <td>$200</td>\n",
       "      <td>The city of Yuma in this state has a record average of 4,055 hours of sunshine each year</td>\n",
       "      <td>Arizona</td>\n",
       "      <td>200.0</td>\n",
       "    </tr>\n",
       "    <tr>\n",
       "      <th>3</th>\n",
       "      <td>4680</td>\n",
       "      <td>2004-12-31</td>\n",
       "      <td>Jeopardy!</td>\n",
       "      <td>THE COMPANY LINE</td>\n",
       "      <td>$200</td>\n",
       "      <td>In 1963, live on \"The Art Linkletter Show\", this company served its billionth burger</td>\n",
       "      <td>McDonald's</td>\n",
       "      <td>200.0</td>\n",
       "    </tr>\n",
       "    <tr>\n",
       "      <th>4</th>\n",
       "      <td>4680</td>\n",
       "      <td>2004-12-31</td>\n",
       "      <td>Jeopardy!</td>\n",
       "      <td>EPITAPHS &amp; TRIBUTES</td>\n",
       "      <td>$200</td>\n",
       "      <td>Signer of the Dec. of Indep., framer of the Constitution of Mass., second President of the United States</td>\n",
       "      <td>John Adams</td>\n",
       "      <td>200.0</td>\n",
       "    </tr>\n",
       "  </tbody>\n",
       "</table>\n",
       "</div>"
      ],
      "text/plain": [
       "   Show Number    Air Date      Round                         Category Value  \\\n",
       "0         4680  2004-12-31  Jeopardy!                          HISTORY  $200   \n",
       "1         4680  2004-12-31  Jeopardy!  ESPN's TOP 10 ALL-TIME ATHLETES  $200   \n",
       "2         4680  2004-12-31  Jeopardy!      EVERYBODY TALKS ABOUT IT...  $200   \n",
       "3         4680  2004-12-31  Jeopardy!                 THE COMPANY LINE  $200   \n",
       "4         4680  2004-12-31  Jeopardy!              EPITAPHS & TRIBUTES  $200   \n",
       "\n",
       "                                                                                                      Question  \\\n",
       "0             For the last 8 years of his life, Galileo was under house arrest for espousing this man's theory   \n",
       "1  No. 2: 1912 Olympian; football star at Carlisle Indian School; 6 MLB seasons with the Reds, Giants & Braves   \n",
       "2                     The city of Yuma in this state has a record average of 4,055 hours of sunshine each year   \n",
       "3                         In 1963, live on \"The Art Linkletter Show\", this company served its billionth burger   \n",
       "4     Signer of the Dec. of Indep., framer of the Constitution of Mass., second President of the United States   \n",
       "\n",
       "       Answer  Float Value  \n",
       "0  Copernicus        200.0  \n",
       "1  Jim Thorpe        200.0  \n",
       "2     Arizona        200.0  \n",
       "3  McDonald's        200.0  \n",
       "4  John Adams        200.0  "
      ]
     },
     "execution_count": 137,
     "metadata": {},
     "output_type": "execute_result"
    }
   ],
   "source": [
    "jeopardy_data.head()"
   ]
  },
  {
   "cell_type": "code",
   "execution_count": 125,
   "metadata": {},
   "outputs": [],
   "source": [
    "jeopardy_data[\"date\"]= jeopardy_data[\"Air Date\"].apply(lambda x: pd.to_datetime(x))"
   ]
  },
  {
   "cell_type": "code",
   "execution_count": 128,
   "metadata": {},
   "outputs": [
    {
     "data": {
      "text/html": [
       "<div>\n",
       "<style scoped>\n",
       "    .dataframe tbody tr th:only-of-type {\n",
       "        vertical-align: middle;\n",
       "    }\n",
       "\n",
       "    .dataframe tbody tr th {\n",
       "        vertical-align: top;\n",
       "    }\n",
       "\n",
       "    .dataframe thead th {\n",
       "        text-align: right;\n",
       "    }\n",
       "</style>\n",
       "<table border=\"1\" class=\"dataframe\">\n",
       "  <thead>\n",
       "    <tr style=\"text-align: right;\">\n",
       "      <th></th>\n",
       "      <th>Show Number</th>\n",
       "      <th>Air Date</th>\n",
       "      <th>Round</th>\n",
       "      <th>Category</th>\n",
       "      <th>Value</th>\n",
       "      <th>Question</th>\n",
       "      <th>Answer</th>\n",
       "      <th>Float Value</th>\n",
       "      <th>date</th>\n",
       "    </tr>\n",
       "  </thead>\n",
       "  <tbody>\n",
       "    <tr>\n",
       "      <th>2410</th>\n",
       "      <td>3214</td>\n",
       "      <td>1998-07-16</td>\n",
       "      <td>Jeopardy!</td>\n",
       "      <td>PRE-COLUMBIAN CULTURES</td>\n",
       "      <td>$500</td>\n",
       "      <td>Warriors of this Yucatan civilization battle in the computer-enhanced mural seen here:</td>\n",
       "      <td>Mayans</td>\n",
       "      <td>500.0</td>\n",
       "      <td>1998-07-16</td>\n",
       "    </tr>\n",
       "    <tr>\n",
       "      <th>5077</th>\n",
       "      <td>3480</td>\n",
       "      <td>1999-10-22</td>\n",
       "      <td>Double Jeopardy!</td>\n",
       "      <td>19th CENTURY LITERATURE</td>\n",
       "      <td>$500</td>\n",
       "      <td>Edward Bellamy's 1888 book \"Looking Backward\" sends a man to this year &amp; doesn't mention computer bugs</td>\n",
       "      <td>2000</td>\n",
       "      <td>500.0</td>\n",
       "      <td>1999-10-22</td>\n",
       "    </tr>\n",
       "    <tr>\n",
       "      <th>18795</th>\n",
       "      <td>3175</td>\n",
       "      <td>1998-05-22</td>\n",
       "      <td>Double Jeopardy!</td>\n",
       "      <td>GREEK LETTERS</td>\n",
       "      <td>$1000</td>\n",
       "      <td>Computer games &amp; programs undergo this test period to work out bugs before their final retail release</td>\n",
       "      <td>Beta testing</td>\n",
       "      <td>1000.0</td>\n",
       "      <td>1998-05-22</td>\n",
       "    </tr>\n",
       "    <tr>\n",
       "      <th>20114</th>\n",
       "      <td>980</td>\n",
       "      <td>1988-12-02</td>\n",
       "      <td>Jeopardy!</td>\n",
       "      <td>SCHOOL DAYS</td>\n",
       "      <td>$200</td>\n",
       "      <td>It used to be a student who kept order in the halls; now it's a screen for your computer</td>\n",
       "      <td>monitor</td>\n",
       "      <td>200.0</td>\n",
       "      <td>1988-12-02</td>\n",
       "    </tr>\n",
       "    <tr>\n",
       "      <th>20837</th>\n",
       "      <td>3118</td>\n",
       "      <td>1998-03-04</td>\n",
       "      <td>Jeopardy!</td>\n",
       "      <td>GO TO \"H\"</td>\n",
       "      <td>$200</td>\n",
       "      <td>At best, it's a computer enthusiast; at worst, it's one who illegally taps into your computer</td>\n",
       "      <td>Hacker</td>\n",
       "      <td>200.0</td>\n",
       "      <td>1998-03-04</td>\n",
       "    </tr>\n",
       "    <tr>\n",
       "      <th>...</th>\n",
       "      <td>...</td>\n",
       "      <td>...</td>\n",
       "      <td>...</td>\n",
       "      <td>...</td>\n",
       "      <td>...</td>\n",
       "      <td>...</td>\n",
       "      <td>...</td>\n",
       "      <td>...</td>\n",
       "      <td>...</td>\n",
       "    </tr>\n",
       "    <tr>\n",
       "      <th>209897</th>\n",
       "      <td>2676</td>\n",
       "      <td>1996-04-01</td>\n",
       "      <td>Jeopardy!</td>\n",
       "      <td>APRIL FOOLS' DAY</td>\n",
       "      <td>$200</td>\n",
       "      <td>The \"core\" of this computer company goes back to its founding, April 1, 1976</td>\n",
       "      <td>Apple Computer</td>\n",
       "      <td>200.0</td>\n",
       "      <td>1996-04-01</td>\n",
       "    </tr>\n",
       "    <tr>\n",
       "      <th>211882</th>\n",
       "      <td>3224</td>\n",
       "      <td>1998-09-17</td>\n",
       "      <td>Double Jeopardy!</td>\n",
       "      <td>WORD ORIGINS</td>\n",
       "      <td>$200</td>\n",
       "      <td>Derived from the Greek for \"throw\", you can throw a floppy one into a computer &amp; store a file</td>\n",
       "      <td>a disk</td>\n",
       "      <td>200.0</td>\n",
       "      <td>1998-09-17</td>\n",
       "    </tr>\n",
       "    <tr>\n",
       "      <th>212789</th>\n",
       "      <td>2871</td>\n",
       "      <td>1997-02-10</td>\n",
       "      <td>Double Jeopardy!</td>\n",
       "      <td>ESSAYS</td>\n",
       "      <td>$800</td>\n",
       "      <td>This humorist's collection of essays \"In Cyberspace\" is formatted like a computer manual</td>\n",
       "      <td>Dave Barry</td>\n",
       "      <td>800.0</td>\n",
       "      <td>1997-02-10</td>\n",
       "    </tr>\n",
       "    <tr>\n",
       "      <th>216527</th>\n",
       "      <td>3038</td>\n",
       "      <td>1997-11-12</td>\n",
       "      <td>Jeopardy!</td>\n",
       "      <td>COMPUTERESE</td>\n",
       "      <td>$400</td>\n",
       "      <td>Like a waiter, a network computer might say \"I'll be your\" this &amp; store files or manage printers</td>\n",
       "      <td>Server</td>\n",
       "      <td>400.0</td>\n",
       "      <td>1997-11-12</td>\n",
       "    </tr>\n",
       "    <tr>\n",
       "      <th>216533</th>\n",
       "      <td>3038</td>\n",
       "      <td>1997-11-12</td>\n",
       "      <td>Jeopardy!</td>\n",
       "      <td>COMPUTERESE</td>\n",
       "      <td>$500</td>\n",
       "      <td>\"Strap\" once completed this word meaning to start a computer by loading software</td>\n",
       "      <td>Boot</td>\n",
       "      <td>500.0</td>\n",
       "      <td>1997-11-12</td>\n",
       "    </tr>\n",
       "  </tbody>\n",
       "</table>\n",
       "<p>104 rows × 9 columns</p>\n",
       "</div>"
      ],
      "text/plain": [
       "        Show Number    Air Date             Round                 Category  \\\n",
       "2410           3214  1998-07-16         Jeopardy!   PRE-COLUMBIAN CULTURES   \n",
       "5077           3480  1999-10-22  Double Jeopardy!  19th CENTURY LITERATURE   \n",
       "18795          3175  1998-05-22  Double Jeopardy!            GREEK LETTERS   \n",
       "20114           980  1988-12-02         Jeopardy!              SCHOOL DAYS   \n",
       "20837          3118  1998-03-04         Jeopardy!                GO TO \"H\"   \n",
       "...             ...         ...               ...                      ...   \n",
       "209897         2676  1996-04-01         Jeopardy!         APRIL FOOLS' DAY   \n",
       "211882         3224  1998-09-17  Double Jeopardy!             WORD ORIGINS   \n",
       "212789         2871  1997-02-10  Double Jeopardy!                   ESSAYS   \n",
       "216527         3038  1997-11-12         Jeopardy!              COMPUTERESE   \n",
       "216533         3038  1997-11-12         Jeopardy!              COMPUTERESE   \n",
       "\n",
       "        Value  \\\n",
       "2410     $500   \n",
       "5077     $500   \n",
       "18795   $1000   \n",
       "20114    $200   \n",
       "20837    $200   \n",
       "...       ...   \n",
       "209897   $200   \n",
       "211882   $200   \n",
       "212789   $800   \n",
       "216527   $400   \n",
       "216533   $500   \n",
       "\n",
       "                                                                                                      Question  \\\n",
       "2410                    Warriors of this Yucatan civilization battle in the computer-enhanced mural seen here:   \n",
       "5077    Edward Bellamy's 1888 book \"Looking Backward\" sends a man to this year & doesn't mention computer bugs   \n",
       "18795    Computer games & programs undergo this test period to work out bugs before their final retail release   \n",
       "20114                 It used to be a student who kept order in the halls; now it's a screen for your computer   \n",
       "20837            At best, it's a computer enthusiast; at worst, it's one who illegally taps into your computer   \n",
       "...                                                                                                        ...   \n",
       "209897                            The \"core\" of this computer company goes back to its founding, April 1, 1976   \n",
       "211882           Derived from the Greek for \"throw\", you can throw a floppy one into a computer & store a file   \n",
       "212789                This humorist's collection of essays \"In Cyberspace\" is formatted like a computer manual   \n",
       "216527        Like a waiter, a network computer might say \"I'll be your\" this & store files or manage printers   \n",
       "216533                        \"Strap\" once completed this word meaning to start a computer by loading software   \n",
       "\n",
       "                Answer  Float Value       date  \n",
       "2410            Mayans        500.0 1998-07-16  \n",
       "5077              2000        500.0 1999-10-22  \n",
       "18795     Beta testing       1000.0 1998-05-22  \n",
       "20114          monitor        200.0 1988-12-02  \n",
       "20837           Hacker        200.0 1998-03-04  \n",
       "...                ...          ...        ...  \n",
       "209897  Apple Computer        200.0 1996-04-01  \n",
       "211882          a disk        200.0 1998-09-17  \n",
       "212789      Dave Barry        800.0 1997-02-10  \n",
       "216527          Server        400.0 1997-11-12  \n",
       "216533            Boot        500.0 1997-11-12  \n",
       "\n",
       "[104 rows x 9 columns]"
      ]
     },
     "execution_count": 128,
     "metadata": {},
     "output_type": "execute_result"
    }
   ],
   "source": [
    "filtered_90s = jeopardy_data[jeopardy_data[\"date\"]<datetime.datetime(2000,1,1)]\n",
    "filter_data(filtered_90s, [\"Computer\"])"
   ]
  },
  {
   "cell_type": "markdown",
   "metadata": {},
   "source": [
    "## Solution"
   ]
  },
  {
   "cell_type": "markdown",
   "metadata": {},
   "source": [
    "7. Compare your program to our <a href=\"https://content.codecademy.com/PRO/independent-practice-projects/jeopardy/jeopardy_solution.zip\">sample solution code</a> - remember, that your program might look different from ours (and probably will) and that's okay!"
   ]
  },
  {
   "cell_type": "markdown",
   "metadata": {},
   "source": [
    "8. Great work! Visit <a href=\"https://discuss.codecademy.com/t/this-is-jeopardy-challenge-project-python-pandas/462365\">our forums</a> to compare your project to our sample solution code. You can also learn how to host your own solution on GitHub so you can share it with other learners! Your solution might look different from ours, and that's okay! There are multiple ways to solve these projects, and you'll learn more by seeing others' code."
   ]
  },
  {
   "cell_type": "code",
   "execution_count": null,
   "metadata": {},
   "outputs": [],
   "source": []
  }
 ],
 "metadata": {
  "kernelspec": {
   "display_name": "Python 3 (ipykernel)",
   "language": "python",
   "name": "python3"
  },
  "language_info": {
   "codemirror_mode": {
    "name": "ipython",
    "version": 3
   },
   "file_extension": ".py",
   "mimetype": "text/x-python",
   "name": "python",
   "nbconvert_exporter": "python",
   "pygments_lexer": "ipython3",
   "version": "3.9.7"
  }
 },
 "nbformat": 4,
 "nbformat_minor": 2
}
